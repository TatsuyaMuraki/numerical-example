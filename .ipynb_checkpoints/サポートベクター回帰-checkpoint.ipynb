{
 "cells": [
  {
   "cell_type": "code",
   "execution_count": 1,
   "metadata": {},
   "outputs": [],
   "source": [
    "import numpy as np\n",
    "import matplotlib.pyplot as plt\n",
    "%matplotlib inline"
   ]
  },
  {
   "cell_type": "code",
   "execution_count": 11,
   "metadata": {},
   "outputs": [
    {
     "data": {
      "text/plain": [
       "<matplotlib.collections.PathCollection at 0x10b478a20>"
      ]
     },
     "execution_count": 11,
     "metadata": {},
     "output_type": "execute_result"
    },
    {
     "data": {
      "image/png": "[encoded data removed]",
      "text/plain": [
       "<Figure size 432x288 with 1 Axes>"
      ]
     },
     "metadata": {},
     "output_type": "display_data"
    }
   ],
   "source": [
    "x = np.linspace(-10,10,100)\n",
    "y = np.sin(x)\n",
    "plt.plot(x,y)\n",
    "\n",
    "x_train = 20*np.random.rand(20) -10\n",
    "y_train = np.sin(x_train) + 0.1*np.random.randn(1)\n",
    "plt.scatter(x_train,y_train)"
   ]
  },
  {
   "cell_type": "code",
   "execution_count": 19,
   "metadata": {},
   "outputs": [
    {
     "name": "stdout",
     "output_type": "stream",
     "text": [
      "C, εのチューニング\n",
      "最適なパラメーター = {'C': 5.455594781168519, 'epsilon': 0.42813323987193935}\n",
      "精度 = 0.7154060263651841\n",
      "\n"
     ]
    }
   ],
   "source": [
    "import numpy as np\n",
    "import matplotlib.pyplot as plt\n",
    "\n",
    "from sklearn.datasets import load_boston\n",
    "from sklearn.model_selection import train_test_split\n",
    "from sklearn.preprocessing import StandardScaler\n",
    "from sklearn.svm import SVR\n",
    "from sklearn.model_selection import GridSearchCV\n",
    "\n",
    "# ハイパーパラメータのチューニング\n",
    "# 計算に時間がかかるのである程度パラメーターを絞っておいた\n",
    "# （1e-2～1e4まで12×12でやって最適値が'C': 0.123, 'epsilon': 1.520）\n",
    "params_cnt = 20\n",
    "params = {\"C\":np.logspace(0,1,params_cnt), \"epsilon\":np.logspace(-1,1,params_cnt)}\n",
    "gridsearch = GridSearchCV(SVR(kernel=\"linear\"), params, cv=gen_cv(), scoring=\"r2\", return_train_score=True)\n",
    "gridsearch.fit(X_norm, y)\n",
    "print(\"C, εのチューニング\")\n",
    "print(\"最適なパラメーター =\", gridsearch.best_params_)\n",
    "print(\"精度 =\", gridsearch.best_score_)\n",
    "print()"
   ]
  },
  {
   "cell_type": "code",
   "execution_count": 20,
   "metadata": {},
   "outputs": [
    {
     "name": "stdout",
     "output_type": "stream",
     "text": [
      "切片と係数\n",
      "[21.81797651]\n",
      "[[-0.92484711  0.86695412  0.21481883  0.41999003 -1.09412238  3.61505818\n",
      "  -0.57109515 -1.88140038  1.72847067 -1.61440302 -1.76307077  0.72193288\n",
      "  -2.69598779]]\n",
      "\n",
      "テストデータにフィット\n",
      "テストデータの精度 = 0.8340209505651648\n",
      "\n",
      "※参考\n",
      "訓練データの精度 = 0.6756893631643892\n",
      "交差検証データの精度 = 0.7154060263651842\n"
     ]
    }
   ],
   "source": [
    "# チューニングしたハイパーパラメーターをフィット\n",
    "regr = SVR(kernel=\"linear\", C=gridsearch.best_params_[\"C\"], epsilon=gridsearch.best_params_[\"epsilon\"])\n",
    "train_indices = next(gen_cv())[0]\n",
    "valid_indices = next(gen_cv())[1]\n",
    "regr.fit(X_norm[train_indices, :], y[train_indices])\n",
    "print(\"切片と係数\")\n",
    "print(regr.intercept_)\n",
    "print(regr.coef_)\n",
    "print()\n",
    "# テストデータの精度を計算\n",
    "print(\"テストデータにフィット\")\n",
    "print(\"テストデータの精度 =\", regr.score(Xtest_norm, ytest))\n",
    "print()\n",
    "print(\"※参考\")\n",
    "print(\"訓練データの精度 =\", regr.score(X_norm[train_indices, :], y[train_indices]))\n",
    "print(\"交差検証データの精度 =\", regr.score(X_norm[valid_indices, :], y[valid_indices]))"
   ]
  },
  {
   "cell_type": "code",
   "execution_count": null,
   "metadata": {},
   "outputs": [],
   "source": [
    "from sklearn import svm\n",
    "\n",
    "np.random.seed(0)\n",
    "x = np.linspace(0,1,10)\n",
    "y = np.sin(2*np.pi*x) + np.random.normal(0, 0.2, x.size)"
   ]
  }
 ],
 "metadata": {
  "kernelspec": {
   "display_name": "Python 3",
   "language": "python",
   "name": "python3"
  },
  "language_info": {
   "codemirror_mode": {
    "name": "ipython",
    "version": 3
   },
   "file_extension": ".py",
   "mimetype": "text/x-python",
   "name": "python",
   "nbconvert_exporter": "python",
   "pygments_lexer": "ipython3",
   "version": "3.6.5"
  }
 },
 "nbformat": 4,
 "nbformat_minor": 2
}
